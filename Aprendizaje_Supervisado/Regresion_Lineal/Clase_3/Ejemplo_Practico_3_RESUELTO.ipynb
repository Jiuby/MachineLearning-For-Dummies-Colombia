{
 "cells": [
  {
   "cell_type": "code",
   "execution_count": null,
   "id": "initial_id",
   "metadata": {
    "collapsed": true
   },
   "outputs": [],
   "source": "# Predicción de Rendimiento Académico"
  },
  {
   "metadata": {
    "ExecuteTime": {
     "end_time": "2024-09-12T05:24:07.842004Z",
     "start_time": "2024-09-12T05:24:07.824630Z"
    }
   },
   "cell_type": "code",
   "source": [
    "import pandas as pd\n",
    "from sklearn.linear_model import LinearRegression\n",
    "from sklearn.model_selection import train_test_split\n",
    "from sklearn.metrics import mean_squared_error, r2_score\n",
    "\n",
    "# Crear el DataFrame\n",
    "data = {\n",
    "    'Horas_Estudio': [5, 10, 3, 8, 12, 6, 9, 4],\n",
    "    'Asistencia (%)': [80, 90, 70, 85, 95, 80, 88, 75],\n",
    "    'Actividades_Extracurriculares': [1, 2, 0, 1, 3, 2, 1, 0],\n",
    "    'Calificación_Final': [75, 85, 60, 80, 90, 78, 82, 65]\n",
    "}\n",
    "\n",
    "df = pd.DataFrame(data)\n",
    "\n",
    "# Variables independientes y dependientes\n",
    "X = df[['Horas_Estudio', 'Asistencia (%)', 'Actividades_Extracurriculares']]\n",
    "y = df['Calificación_Final']\n",
    "\n",
    "# Dividir el dataset en conjunto de entrenamiento y prueba\n",
    "X_train, X_test, y_train, y_test = train_test_split(X, y, test_size=0.2, random_state=42)\n",
    "\n",
    "# Crear y ajustar el modelo\n",
    "model = LinearRegression()\n",
    "model.fit(X_train, y_train)\n",
    "\n",
    "# Realizar predicciones\n",
    "y_pred = model.predict(X_test)\n",
    "\n",
    "# Evaluar el modelo\n",
    "print(\"Coeficientes:\", model.coef_)\n",
    "print(\"Intersección:\", model.intercept_)\n",
    "print(\"Error Cuadrático Medio:\", mean_squared_error(y_test, y_pred))\n",
    "print(\"R²:\", r2_score(y_test, y_pred))\n",
    "\n",
    "# Ejemplo de predicción\n",
    "ejemplo = [[0, 85, 1]]  \n",
    "prediccion = model.predict(ejemplo)\n",
    "print(\"Predicción para un estudiante con 1 horas de estudio, 85% de asistencia y 1 actividad extracurriculr:\", prediccion[0])\n"
   ],
   "id": "5779465bb274e3e2",
   "outputs": [
    {
     "name": "stdout",
     "output_type": "stream",
     "text": [
      "Coeficientes: [-1.60891089  1.7790279   0.38253825]\n",
      "Intersección: -60.231773177317635\n",
      "Error Cuadrático Medio: 11.608320080432906\n",
      "R²: 0.05238203425037502\n",
      "Predicción para un estudiante con 1 horas de estudio, 85% de asistencia y 1 actividad extracurriculr: 91.36813681368132\n"
     ]
    },
    {
     "name": "stderr",
     "output_type": "stream",
     "text": [
      "C:\\Users\\hitak\\miniconda3\\Lib\\site-packages\\sklearn\\base.py:493: UserWarning: X does not have valid feature names, but LinearRegression was fitted with feature names\n",
      "  warnings.warn(\n"
     ]
    }
   ],
   "execution_count": 5
  }
 ],
 "metadata": {
  "kernelspec": {
   "display_name": "Python 3",
   "language": "python",
   "name": "python3"
  },
  "language_info": {
   "codemirror_mode": {
    "name": "ipython",
    "version": 2
   },
   "file_extension": ".py",
   "mimetype": "text/x-python",
   "name": "python",
   "nbconvert_exporter": "python",
   "pygments_lexer": "ipython2",
   "version": "2.7.6"
  }
 },
 "nbformat": 4,
 "nbformat_minor": 5
}
