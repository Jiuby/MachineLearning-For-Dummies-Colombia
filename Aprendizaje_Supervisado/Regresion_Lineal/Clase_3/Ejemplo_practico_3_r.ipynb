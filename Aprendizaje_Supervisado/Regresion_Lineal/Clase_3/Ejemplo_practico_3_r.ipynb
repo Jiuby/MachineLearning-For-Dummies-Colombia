{
 "cells": [
  {
   "cell_type": "code",
   "id": "initial_id",
   "metadata": {
    "collapsed": true,
    "ExecuteTime": {
     "end_time": "2024-09-12T05:25:27.894730Z",
     "start_time": "2024-09-12T05:25:27.888094Z"
    }
   },
   "source": [
    "# Predicción de Rendimiento Académico\n",
    "\n",
    "\"\"\"\n",
    "SE DEBEN DE USAR LOS SIGUIENTES DATOS\n",
    "\n",
    "data = {\n",
    "    'Horas_Estudio': [5, 10, 3, 8, 12, 6, 9, 4],\n",
    "    'Asistencia (%)': [80, 90, 70, 85, 95, 80, 88, 75],\n",
    "    'Actividades_Extracurriculares': [1, 2, 0, 1, 3, 2, 1, 0],\n",
    "    'Calificación_Final': [75, 85, 60, 80, 90, 78, 82, 65]\n",
    "}\n",
    "\n",
    "\"\"\""
   ],
   "outputs": [
    {
     "data": {
      "text/plain": [
       "\"\\nSE DEBEN DE USAR LOS SIGUIENTES DATOS\\n\\ndata = {\\n    'Horas_Estudio': [5, 10, 3, 8, 12, 6, 9, 4],\\n    'Asistencia (%)': [80, 90, 70, 85, 95, 80, 88, 75],\\n    'Actividades_Extracurriculares': [1, 2, 0, 1, 3, 2, 1, 0],\\n    'Calificación_Final': [75, 85, 60, 80, 90, 78, 82, 65]\\n}\\n\\n\""
      ]
     },
     "execution_count": 2,
     "metadata": {},
     "output_type": "execute_result"
    }
   ],
   "execution_count": 2
  }
 ],
 "metadata": {
  "kernelspec": {
   "display_name": "Python 3",
   "language": "python",
   "name": "python3"
  },
  "language_info": {
   "codemirror_mode": {
    "name": "ipython",
    "version": 2
   },
   "file_extension": ".py",
   "mimetype": "text/x-python",
   "name": "python",
   "nbconvert_exporter": "python",
   "pygments_lexer": "ipython2",
   "version": "2.7.6"
  }
 },
 "nbformat": 4,
 "nbformat_minor": 5
}
