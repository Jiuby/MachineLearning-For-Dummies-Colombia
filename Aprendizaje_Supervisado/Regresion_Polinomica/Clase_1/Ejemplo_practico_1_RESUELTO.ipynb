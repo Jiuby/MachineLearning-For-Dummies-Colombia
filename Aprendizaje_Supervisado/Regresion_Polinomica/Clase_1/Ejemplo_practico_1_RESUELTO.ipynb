{
 "cells": [
  {
   "metadata": {},
   "cell_type": "markdown",
   "source": [
    "# Ejercicio:\n",
    "Tema: Predicción del crecimiento de una planta en función del tiempo.\n",
    "\n",
    "Descripción:\n",
    "Dado un dataset simulado que contiene los datos del tiempo (en días) y la altura de una planta (en cm), los estudiantes deben aplicar regresión polinómica para predecir el crecimiento de la planta en función del tiempo.\n",
    "\n",
    "Dataset:\n",
    "Tiempo (días): [1, 2, 3, 4, 5, 6, 7, 8, 9, 10]\n",
    "Altura (cm): [2, 4.1, 7.5, 11.3, 16.2, 22.8, 29.9, 38.5, 47.7, 58.6]"
   ],
   "id": "b74c4ec487887dca"
  },
  {
   "metadata": {},
   "cell_type": "code",
   "outputs": [],
   "execution_count": null,
   "source": "",
   "id": "be7d9271ff061c9"
  }
 ],
 "metadata": {
  "kernelspec": {
   "display_name": "Python 3",
   "language": "python",
   "name": "python3"
  },
  "language_info": {
   "codemirror_mode": {
    "name": "ipython",
    "version": 2
   },
   "file_extension": ".py",
   "mimetype": "text/x-python",
   "name": "python",
   "nbconvert_exporter": "python",
   "pygments_lexer": "ipython2",
   "version": "2.7.6"
  }
 },
 "nbformat": 4,
 "nbformat_minor": 5
}
