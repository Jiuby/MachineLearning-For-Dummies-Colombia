{
 "cells": [
  {
   "metadata": {},
   "cell_type": "markdown",
   "source": [
    "# Ejercicio: Predicción de la Velocidad de Enfriamiento de un Líquido\n",
    "Descripción:\n",
    "Imagina que estás estudiando el proceso de enfriamiento de un líquido caliente que se deja a temperatura ambiente. Se registran las temperaturas del líquido en varios momentos y el objetivo es modelar cómo cambia la temperatura con el tiempo usando regresión polinómica.\n",
    "\n",
    "Los datos se encuentran en una tabla con las siguientes columnas:\n",
    "\n",
    "\n",
    "| tiempo (s) | temperatura (°C) |\n",
    "|------------|------------------|\n",
    "| 0          | 80               |\n",
    "| 3          | 68               |\n",
    "| 5          | 55               |\n",
    "| 8          | 48               |\n",
    "| 12         | 41               |\n",
    "| 16         | 38               |\n",
    "| 20         | 34               |\n",
    "| 25         | 30               |\n",
    "| 30         | 28               |\n"
   ],
   "id": "f2c4078c67c8b1bc"
  },
  {
   "metadata": {},
   "cell_type": "code",
   "outputs": [],
   "execution_count": null,
   "source": "",
   "id": "4b8837ad775b2933"
  }
 ],
 "metadata": {
  "kernelspec": {
   "display_name": "Python 3",
   "language": "python",
   "name": "python3"
  },
  "language_info": {
   "codemirror_mode": {
    "name": "ipython",
    "version": 2
   },
   "file_extension": ".py",
   "mimetype": "text/x-python",
   "name": "python",
   "nbconvert_exporter": "python",
   "pygments_lexer": "ipython2",
   "version": "2.7.6"
  }
 },
 "nbformat": 4,
 "nbformat_minor": 5
}
