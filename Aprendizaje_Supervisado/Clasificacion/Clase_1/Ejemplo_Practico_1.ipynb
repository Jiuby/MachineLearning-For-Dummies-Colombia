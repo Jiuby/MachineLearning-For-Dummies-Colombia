{
 "cells": [
  {
   "metadata": {},
   "cell_type": "markdown",
   "source": "# Clasificación con KNN y el dataset Iris",
   "id": "67bfaf345cd599a3"
  },
  {
   "metadata": {},
   "cell_type": "markdown",
   "source": [
    "- Carga del Dataset: Utiliza el dataset Iris que ya viene con scikit-learn. Este conjunto de datos contiene información sobre tres tipos diferentes de flores (setosa, versicolor, y virginica) basadas en cuatro características (largo y ancho del sépalo y pétalo).\n",
    "\n",
    "```python\n",
    "from sklearn.datasets import load_iris\n",
    "iris = load_iris()\n",
    "```\n",
    "- Preprocesamiento: Divide los datos en conjuntos de entrenamiento y prueba.\n",
    "\n",
    "- Entrenamiento del Modelo: Entrena el modelo KNN con los datos de entrenamiento.\n",
    "\n",
    "- Evaluación del Modelo: Evalúa el modelo con los datos de prueba y mide su precisión."
   ],
   "id": "164b5708a745f88a"
  },
  {
   "metadata": {},
   "cell_type": "code",
   "outputs": [],
   "execution_count": null,
   "source": "",
   "id": "3c9b651527eed89"
  }
 ],
 "metadata": {
  "kernelspec": {
   "display_name": "Python 3",
   "language": "python",
   "name": "python3"
  },
  "language_info": {
   "codemirror_mode": {
    "name": "ipython",
    "version": 2
   },
   "file_extension": ".py",
   "mimetype": "text/x-python",
   "name": "python",
   "nbconvert_exporter": "python",
   "pygments_lexer": "ipython2",
   "version": "2.7.6"
  }
 },
 "nbformat": 4,
 "nbformat_minor": 5
}
